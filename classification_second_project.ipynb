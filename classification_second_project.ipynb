{
  "nbformat": 4,
  "nbformat_minor": 0,
  "metadata": {
    "colab": {
      "name": "classification_second_project.ipynb",
      "version": "0.3.2",
      "provenance": [],
      "collapsed_sections": [],
      "include_colab_link": true
    },
    "kernelspec": {
      "name": "python3",
      "display_name": "Python 3"
    }
  },
  "cells": [
    {
      "cell_type": "markdown",
      "metadata": {
        "id": "view-in-github",
        "colab_type": "text"
      },
      "source": [
        "<a href=\"https://colab.research.google.com/github/victorssec/machine-learning/blob/introduction/classification_second_project.ipynb\" target=\"_parent\"><img src=\"https://colab.research.google.com/assets/colab-badge.svg\" alt=\"Open In Colab\"/></a>"
      ]
    },
    {
      "cell_type": "code",
      "metadata": {
        "id": "4itWOzFO4Whs",
        "colab_type": "code",
        "colab": {}
      },
      "source": [
        "import pandas as pd\n",
        "\n",
        "uri = \"https://gist.githubusercontent.com/guilhermesilveira/2d2efa37d66b6c84a722ea627a897ced/raw/10968b997d885cbded1c92938c7a9912ba41c615/tracking.csv\"\n",
        "\n",
        "data = pd.read_csv(uri)\n",
        "data.head()"
      ],
      "execution_count": 0,
      "outputs": []
    },
    {
      "cell_type": "code",
      "metadata": {
        "id": "X5FejHU4BpaU",
        "colab_type": "code",
        "colab": {}
      },
      "source": [
        "change_name = {\n",
        "    \"home\" : \"main_page\",\n",
        "    \"how_it_works\" : \"plataform_features\",\n",
        "    \"contact\" : \"talk_to_us\",\n",
        "    \"bought\" : \"obtained\"\n",
        "}\n",
        "\n",
        "data = data.rename(columns = change_name)\n"
      ],
      "execution_count": 0,
      "outputs": []
    },
    {
      "cell_type": "code",
      "metadata": {
        "id": "YPK1EgRxFrD7",
        "colab_type": "code",
        "colab": {}
      },
      "source": [
        "features = data[[\"main_page\",\"plataform_features\",\"talk_to_us\"]]\n",
        "features.head()"
      ],
      "execution_count": 0,
      "outputs": []
    },
    {
      "cell_type": "code",
      "metadata": {
        "id": "A9AX0_C9GkNr",
        "colab_type": "code",
        "colab": {}
      },
      "source": [
        "client_decision = data[\"obtained\"]\n",
        "client_decision.head()"
      ],
      "execution_count": 0,
      "outputs": []
    },
    {
      "cell_type": "code",
      "metadata": {
        "id": "-eJL97a1GsnT",
        "colab_type": "code",
        "colab": {}
      },
      "source": [
        "data.shape"
      ],
      "execution_count": 0,
      "outputs": []
    },
    {
      "cell_type": "code",
      "metadata": {
        "id": "jy_e2DYkIRgK",
        "colab_type": "code",
        "colab": {}
      },
      "source": [
        "#0 - 74\n",
        "train_data_features = features[:75]\n",
        "train_client_decision = client_decision[:75]\n",
        "\n",
        "#75 - 99\n",
        "test_data_features = features[75:]\n",
        "test_client_decision = client_decision[75:]\n",
        "\n",
        "print(\"Training with %d elements and testing with %d elements\" % (len(train_data_features), len(test_data_features)))"
      ],
      "execution_count": 0,
      "outputs": []
    },
    {
      "cell_type": "code",
      "metadata": {
        "id": "Ai7I2TYiMJTh",
        "colab_type": "code",
        "colab": {}
      },
      "source": [
        "from sklearn.svm import LinearSVC\n",
        "from sklearn.metrics import accuracy_score\n",
        "\n",
        "model = LinearSVC()\n",
        "model.fit(train_data_features, train_client_decision)\n",
        "predictions = model.predict(test_data_features)\n",
        "\n",
        "accuracy = accuracy_score(test_client_decision, predictions)\n",
        "\n",
        "print(\"Accuracy: %.2f%%\" % accuracy)"
      ],
      "execution_count": 0,
      "outputs": []
    }
  ]
}