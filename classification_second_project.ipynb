{
  "nbformat": 4,
  "nbformat_minor": 0,
  "metadata": {
    "colab": {
      "name": "classification_second_project.ipynb",
      "version": "0.3.2",
      "provenance": [],
      "collapsed_sections": [],
      "include_colab_link": true
    },
    "kernelspec": {
      "name": "python3",
      "display_name": "Python 3"
    }
  },
  "cells": [
    {
      "cell_type": "markdown",
      "metadata": {
        "id": "view-in-github",
        "colab_type": "text"
      },
      "source": [
        "<a href=\"https://colab.research.google.com/github/victorssec/machine-learning/blob/introduction/classification_second_project.ipynb\" target=\"_parent\"><img src=\"https://colab.research.google.com/assets/colab-badge.svg\" alt=\"Open In Colab\"/></a>"
      ]
    },
    {
      "cell_type": "code",
      "metadata": {
        "id": "4itWOzFO4Whs",
        "colab_type": "code",
        "colab": {}
      },
      "source": [
        "#importing library and making a call\n",
        "import pandas as pd\n",
        "\n",
        "uri = \"https://gist.githubusercontent.com/guilhermesilveira/2d2efa37d66b6c84a722ea627a897ced/raw/10968b997d885cbded1c92938c7a9912ba41c615/tracking.csv\"\n",
        "\n",
        "#reading the .csv raw file\n",
        "data = pd.read_csv(uri)\n",
        "\n",
        "#getting the first five columns using the command .head() \n",
        "data.head()"
      ],
      "execution_count": 0,
      "outputs": []
    },
    {
      "cell_type": "code",
      "metadata": {
        "id": "X5FejHU4BpaU",
        "colab_type": "code",
        "colab": {}
      },
      "source": [
        "#changing the columns name\n",
        "change_name = {\n",
        "    \"home\" : \"main_page\",\n",
        "    \"how_it_works\" : \"plataform_features\",\n",
        "    \"contact\" : \"talk_to_us\",\n",
        "    \"bought\" : \"obtained\"\n",
        "}\n",
        "\n",
        "#using the command .rename(columsn = new_names)\n",
        "data = data.rename(columns = change_name)\n"
      ],
      "execution_count": 0,
      "outputs": []
    },
    {
      "cell_type": "code",
      "metadata": {
        "id": "YPK1EgRxFrD7",
        "colab_type": "code",
        "colab": {}
      },
      "source": [
        "#selecting data by extracting the features from the clients decision\n",
        "features = data[[\"main_page\",\"plataform_features\",\"talk_to_us\"]]\n",
        "features.head()"
      ],
      "execution_count": 0,
      "outputs": []
    },
    {
      "cell_type": "code",
      "metadata": {
        "id": "A9AX0_C9GkNr",
        "colab_type": "code",
        "colab": {}
      },
      "source": [
        "client_decision = data[\"obtained\"]\n",
        "client_decision.head()"
      ],
      "execution_count": 0,
      "outputs": []
    },
    {
      "cell_type": "code",
      "metadata": {
        "id": "-eJL97a1GsnT",
        "colab_type": "code",
        "colab": {}
      },
      "source": [
        "#in order to train the algorithms we have to separate the train data from the test data, because if we don't, the algorithm will only remember and reproduce the input test data \n",
        "#and we want it to learn by it's own, making correct assumptions not only from the given data but also from outter data. In order to do that we first have to know the data format\n",
        "#so we use the command .shape to know the number of lines of information\n",
        "\n",
        "data.shape"
      ],
      "execution_count": 0,
      "outputs": []
    },
    {
      "cell_type": "code",
      "metadata": {
        "id": "jy_e2DYkIRgK",
        "colab_type": "code",
        "colab": {}
      },
      "source": [
        "#now we take the 75 first data and make it train data and we take the 24 data remain and make it teste data for both matrices\n",
        "\n",
        "#0 - 74\n",
        "train_data_features = features[:75]\n",
        "train_client_decision = client_decision[:75]\n",
        "\n",
        "#75 - 99\n",
        "test_data_features = features[75:]\n",
        "test_client_decision = client_decision[75:]\n",
        "\n",
        "print(\"Training with %d elements and testing with %d elements\" % (len(train_data_features), len(test_data_features)))"
      ],
      "execution_count": 0,
      "outputs": []
    },
    {
      "cell_type": "code",
      "metadata": {
        "id": "Ai7I2TYiMJTh",
        "colab_type": "code",
        "colab": {}
      },
      "source": [
        "from sklearn.svm import LinearSVC\n",
        "from sklearn.metrics import accuracy_score\n",
        "\n",
        "#Instancia a classe LinearSVC\n",
        "model = LinearSVC()\n",
        "\n",
        "#Treinar em cima dos modelos de dados\n",
        "model.fit(train_data_features, train_client_decision)\n",
        "\n",
        "#Comando para o modelo prever baseado no test_data_features\n",
        "predictions = model.predict(test_data_features)\n",
        "\n",
        "accuracy = accuracy_score(test_client_decision, predictions)\n",
        "\n",
        "print(\"Accuracy: %.2f%%\" % accuracy)"
      ],
      "execution_count": 0,
      "outputs": []
    }
  ]
}