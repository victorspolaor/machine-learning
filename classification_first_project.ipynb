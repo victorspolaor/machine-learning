{
  "nbformat": 4,
  "nbformat_minor": 0,
  "metadata": {
    "colab": {
      "name": "classification_first_project.ipynb",
      "version": "0.3.2",
      "provenance": [],
      "collapsed_sections": [],
      "include_colab_link": true
    },
    "kernelspec": {
      "name": "python3",
      "display_name": "Python 3"
    }
  },
  "cells": [
    {
      "cell_type": "markdown",
      "metadata": {
        "id": "view-in-github",
        "colab_type": "text"
      },
      "source": [
        "<a href=\"https://colab.research.google.com/github/victorssec/machine-learning/blob/introduction/classification_first_project.ipynb\" target=\"_parent\"><img src=\"https://colab.research.google.com/assets/colab-badge.svg\" alt=\"Open In Colab\"/></a>"
      ]
    },
    {
      "cell_type": "code",
      "metadata": {
        "id": "IZfTXDe-FyVE",
        "colab_type": "code",
        "colab": {}
      },
      "source": [
        "\n",
        "#features: long fur, short leg, barks\n",
        "\n",
        "firstPig = [0, 1, 0]\n",
        "secondPig = [0, 1, 1]\n",
        "thirdPig = [1, 1, 0]\n",
        "\n",
        "firstDog = [0, 1, 1]\n",
        "secondDog = [1, 0, 1]\n",
        "thirdDog = [1, 1, 1]\n",
        "\n",
        "#1 refers to pigs and 0 refers to dogs\n",
        "data = [firstPig, secondPig, thirdPig, firstDog, secondDog, thirdDog]\n",
        "classes = [1, 1, 1, 0, 0, 0]"
      ],
      "execution_count": 0,
      "outputs": []
    },
    {
      "cell_type": "code",
      "metadata": {
        "id": "A0GLBbCFIpkO",
        "colab_type": "code",
        "colab": {}
      },
      "source": [
        "from sklearn.svm import LinearSVC\n",
        "\n",
        "model = LinearSVC()\n",
        "\n",
        "model.fit(data, classes)"
      ],
      "execution_count": 0,
      "outputs": []
    },
    {
      "cell_type": "code",
      "metadata": {
        "id": "RGHJPEfQMZgv",
        "colab_type": "code",
        "outputId": "ad91a596-89bd-4653-dc7f-dc9f1762f468",
        "colab": {
          "base_uri": "https://localhost:8080/",
          "height": 34
        }
      },
      "source": [
        "unknownAnimal = [1, 1, 1]\n",
        "model.predict([unknownAnimal])"
      ],
      "execution_count": 3,
      "outputs": [
        {
          "output_type": "execute_result",
          "data": {
            "text/plain": [
              "array([0])"
            ]
          },
          "metadata": {
            "tags": []
          },
          "execution_count": 3
        }
      ]
    },
    {
      "cell_type": "code",
      "metadata": {
        "id": "nTXhXhBINdtU",
        "colab_type": "code",
        "colab": {}
      },
      "source": [
        "firstUnknown = [1, 1, 1]\n",
        "secondUnknown = [1, 1, 0]\n",
        "thirdUnknown = [0, 1, 1]\n",
        "\n",
        "tests = [firstUnknown, secondUnknown, thirdUnknown]\n",
        "testing_classes = [0, 1, 1]"
      ],
      "execution_count": 0,
      "outputs": []
    },
    {
      "cell_type": "code",
      "metadata": {
        "id": "B6EBnpzKPNRJ",
        "colab_type": "code",
        "colab": {}
      },
      "source": [
        "predictions = model.predict(tests)"
      ],
      "execution_count": 0,
      "outputs": []
    },
    {
      "cell_type": "code",
      "metadata": {
        "id": "rSxPx6paRKR1",
        "colab_type": "code",
        "outputId": "39ab61d8-683b-4d5d-b846-ab70140b8c72",
        "colab": {
          "base_uri": "https://localhost:8080/",
          "height": 34
        }
      },
      "source": [
        "#FIRST SOLUTION\n",
        "accurates = (predictions == testing_classes).sum()\n",
        "\n",
        "total = len(tests)\n",
        "\n",
        "hit_rate = accurates / total\n",
        "print(\"Hit rate: %.2f\" % (hit_rate * 100), \"%\")"
      ],
      "execution_count": 6,
      "outputs": [
        {
          "output_type": "stream",
          "text": [
            "Hit rate: 66.67 %\n"
          ],
          "name": "stdout"
        }
      ]
    },
    {
      "cell_type": "code",
      "metadata": {
        "id": "Ih5-pIqOSvcU",
        "colab_type": "code",
        "outputId": "15bfcc82-ee1d-423b-daad-180b34c8199d",
        "colab": {
          "base_uri": "https://localhost:8080/",
          "height": 34
        }
      },
      "source": [
        "#SECOND SOLUTION\n",
        "from sklearn.metrics import accuracy_score\n",
        "\n",
        "hit_rate = accuracy_score(testing_classes, predictions)\n",
        "print(\"Hit rate: %.2f\" % (hit_rate * 100), \"%\")"
      ],
      "execution_count": 7,
      "outputs": [
        {
          "output_type": "stream",
          "text": [
            "Hit rate: 66.67 %\n"
          ],
          "name": "stdout"
        }
      ]
    }
  ]
}