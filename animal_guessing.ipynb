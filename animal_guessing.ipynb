{
  "nbformat": 4,
  "nbformat_minor": 0,
  "metadata": {
    "colab": {
      "name": "animal_guessing.ipynb",
      "version": "0.3.2",
      "provenance": [],
      "collapsed_sections": [],
      "include_colab_link": true
    },
    "kernelspec": {
      "name": "python3",
      "display_name": "Python 3"
    }
  },
  "cells": [
    {
      "cell_type": "markdown",
      "metadata": {
        "id": "view-in-github",
        "colab_type": "text"
      },
      "source": [
        "<a href=\"https://colab.research.google.com/github/victorssec/machine-learning/blob/introduction/animal_guessing.ipynb\" target=\"_parent\"><img src=\"https://colab.research.google.com/assets/colab-badge.svg\" alt=\"Open In Colab\"/></a>"
      ]
    },
    {
      "cell_type": "code",
      "metadata": {
        "id": "IZfTXDe-FyVE",
        "colab_type": "code",
        "colab": {}
      },
      "source": [
        "\n",
        "#Program created with the intention of, given the data and the examples, create \n",
        "#an algorithm capable of predicting the type of an animal. Measuring, lastly,\n",
        "#its accuracy\n",
        "\n",
        "#features\n",
        "#long fur\n",
        "#short leg\n",
        "#barks\n",
        "\n",
        "firstPig = [0, 1, 0]\n",
        "secondPig = [0, 1, 1]\n",
        "thirdPig = [1, 1, 0]\n",
        "\n",
        "firstDog = [0, 1, 1]\n",
        "secondDog = [1, 0, 1]\n",
        "thirdDog = [1, 1, 1]\n",
        "\n",
        "#The number 1 refers to pigs and the number 0 refers to dogs\n",
        "data = [firstPig, secondPig, thirdPig, firstDog, secondDog, thirdDog]\n",
        "classes = [1, 1, 1, 0, 0, 0]"
      ],
      "execution_count": 0,
      "outputs": []
    },
    {
      "cell_type": "code",
      "metadata": {
        "id": "A0GLBbCFIpkO",
        "colab_type": "code",
        "colab": {
          "base_uri": "https://localhost:8080/",
          "height": 85
        },
        "outputId": "f3d73f2c-39d3-4ab2-f1b2-cb078d2dd42c"
      },
      "source": [
        "#From module sklearn.svm, we are importing an estimator called LinearSVC\n",
        "from sklearn.svm import LinearSVC\n",
        "\n",
        "#Model that instantiate the class\n",
        "model = LinearSVC()\n",
        "\n",
        "#Request for the instantiate class, or object, to analyse and learn with the\n",
        "#data given. Since we are teaching as a parent to a child, we also have to\n",
        "#give the classes to be correlated.\n",
        "#For this objetivo we call the method fit.\n",
        "model.fit(data, classes)"
      ],
      "execution_count": 5,
      "outputs": [
        {
          "output_type": "execute_result",
          "data": {
            "text/plain": [
              "LinearSVC(C=1.0, class_weight=None, dual=True, fit_intercept=True,\n",
              "          intercept_scaling=1, loss='squared_hinge', max_iter=1000,\n",
              "          multi_class='ovr', penalty='l2', random_state=None, tol=0.0001,\n",
              "          verbose=0)"
            ]
          },
          "metadata": {
            "tags": []
          },
          "execution_count": 5
        }
      ]
    },
    {
      "cell_type": "code",
      "metadata": {
        "id": "RGHJPEfQMZgv",
        "colab_type": "code",
        "colab": {
          "base_uri": "https://localhost:8080/",
          "height": 34
        },
        "outputId": "70ce43e9-f861-4005-8caa-a4e79f5c89cb"
      },
      "source": [
        "#Inserting data into the animal\n",
        "unknownAnimal = [1, 1, 1]\n",
        "#Function that predicts data according to given data\n",
        "model.predict([unknownAnimal])"
      ],
      "execution_count": 7,
      "outputs": [
        {
          "output_type": "execute_result",
          "data": {
            "text/plain": [
              "array([0])"
            ]
          },
          "metadata": {
            "tags": []
          },
          "execution_count": 7
        }
      ]
    },
    {
      "cell_type": "code",
      "metadata": {
        "id": "nTXhXhBINdtU",
        "colab_type": "code",
        "colab": {}
      },
      "source": [
        "#Testing the prediction of three animals in order to test the accuracy\n",
        "firstUnknown = [1, 1, 1]\n",
        "secondUnknown = [1, 1, 0]\n",
        "thirdUnknown = [0, 1, 1]\n",
        "\n",
        "tests = [firstUnknown, secondUnknown, thirdUnknown]\n",
        "testing_classes = [0, 1, 1]"
      ],
      "execution_count": 0,
      "outputs": []
    },
    {
      "cell_type": "code",
      "metadata": {
        "id": "B6EBnpzKPNRJ",
        "colab_type": "code",
        "colab": {}
      },
      "source": [
        "#Since we intend to predict the results, we have predictions\n",
        "predictions = model.predict(tests)"
      ],
      "execution_count": 0,
      "outputs": []
    },
    {
      "cell_type": "code",
      "metadata": {
        "id": "rSxPx6paRKR1",
        "colab_type": "code",
        "colab": {
          "base_uri": "https://localhost:8080/",
          "height": 34
        },
        "outputId": "72b37fe3-f65a-417a-9b31-0c590ff581d9"
      },
      "source": [
        "#FIRST SOLUTION\n",
        "#Total sum of correct predicts\n",
        "accurates = (predictions == testing_classes).sum()\n",
        "\n",
        "#Counting the number of tests\n",
        "total = len(tests)\n",
        "\n",
        "#Analising accuracy\n",
        "hit_rate = accurates / total\n",
        "print(\"Hit rate: %.2f\" % (hit_rate * 100), \"%\")"
      ],
      "execution_count": 58,
      "outputs": [
        {
          "output_type": "stream",
          "text": [
            "Hit rate: 66.67 %\n"
          ],
          "name": "stdout"
        }
      ]
    },
    {
      "cell_type": "code",
      "metadata": {
        "id": "Ih5-pIqOSvcU",
        "colab_type": "code",
        "colab": {
          "base_uri": "https://localhost:8080/",
          "height": 34
        },
        "outputId": "e132aa4c-c70a-4250-f113-712dadad878d"
      },
      "source": [
        "#SECOND SOLUTION\n",
        "#From module sklearn.metrics is being imported a hit rate meter\n",
        "from sklearn.metrics import accuracy_score\n",
        "\n",
        "hit_rate = accuracy_score(testing_classes, predictions)\n",
        "print(\"Hit rate: %.2f\" % (hit_rate * 100), \"%\")"
      ],
      "execution_count": 59,
      "outputs": [
        {
          "output_type": "stream",
          "text": [
            "Hit rate: 66.67 %\n"
          ],
          "name": "stdout"
        }
      ]
    }
  ]
}